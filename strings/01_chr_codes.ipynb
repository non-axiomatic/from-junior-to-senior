{
 "cells": [
  {
   "cell_type": "markdown",
   "id": "d56e13d3",
   "metadata": {},
   "source": [
    "### 🧩 **Task**\n",
    "\n",
    "The program receives two letters separated by a space.  \n",
    "Print the following string (without quotes):\n",
    "\n",
    "```\n",
    "Codes: <letter1> = <ASCII code of letter1>, <letter2> = <ASCII code of letter2>\n",
    "```\n",
    "\n",
    "💡 **Example input:**  \n",
    "```\n",
    "b k\n",
    "```\n",
    "\n",
    "💡 **Example output:**  \n",
    "```\n",
    "Codes: b = 98, k = 107\n",
    "```\n"
   ]
  },
  {
   "cell_type": "markdown",
   "id": "fe267902",
   "metadata": {},
   "source": [
    "### 🌱 First Working Version"
   ]
  },
  {
   "cell_type": "code",
   "execution_count": 13,
   "id": "fe97199f",
   "metadata": {},
   "outputs": [
    {
     "name": "stdin",
     "output_type": "stream",
     "text": [
      " b k\n"
     ]
    },
    {
     "name": "stdout",
     "output_type": "stream",
     "text": [
      "Codes: b = 98, k = 107\n"
     ]
    }
   ],
   "source": [
    "s = input()\n",
    "ch1, ch2 = s.split()\n",
    "x = ord(ch1)\n",
    "y = ord(ch2)\n",
    "print(f\"Codes: {ch1} = {x}, {ch2} = {y}\")"
   ]
  },
  {
   "cell_type": "markdown",
   "id": "24e0cd12",
   "metadata": {},
   "source": [
    "###  ✅ Refactored Version 1 — with `map()` and unpacking"
   ]
  },
  {
   "cell_type": "code",
   "execution_count": null,
   "id": "a18b2d39",
   "metadata": {},
   "outputs": [],
   "source": [
    "ch1, ch2 = input().split()\n",
    "code1, code2 = map(ord, (ch1, ch2))\n",
    "print(f\"Codes: {ch1} = {code1}, {ch2} = {code2}\")"
   ]
  },
  {
   "cell_type": "markdown",
   "id": "6f09adec",
   "metadata": {},
   "source": [
    "> ✏️ `map(ord, ...)` applies `ord()` to both letters  \n",
    "> ✏️ `map` returns an iterator — unpacked into `code1`, `code2`"
   ]
  },
  {
   "cell_type": "markdown",
   "id": "8bfb1cc4",
   "metadata": {},
   "source": [
    "### 🌟 Refactored Version 2 — for many letters"
   ]
  },
  {
   "cell_type": "code",
   "execution_count": null,
   "id": "b978841f",
   "metadata": {},
   "outputs": [],
   "source": [
    "letters = input().split()\n",
    "codes = [f\"{ch} = {ord(ch)}\" for ch in letters]\n",
    "print(\"Codes: \" + \", \".join(codes))"
   ]
  },
  {
   "cell_type": "markdown",
   "id": "a129b115",
   "metadata": {},
   "source": [
    "> ✏️ Works for any number of letters  \n",
    "> ✏️ Elegant string formatting  \n",
    "> ✏️ Scales beautifully"
   ]
  },
  {
   "cell_type": "markdown",
   "id": "8d3b5dff",
   "metadata": {},
   "source": [
    "## 🧘 Practice Time  \n",
    "Try solving these tiny rituals with your hands. They may look different — but your spells still work ✨"
   ]
  },
  {
   "cell_type": "markdown",
   "id": "bc27e774",
   "metadata": {},
   "source": [
    "### 🌿 Practice 1 — Uppercase Codes\n",
    "\n",
    "### 🪄 **Task:**  \n",
    "The program receives two letters separated by a space.  \n",
    "Convert both letters to uppercase and print the result in the following format:\n",
    "\n",
    "```\n",
    "Uppercase: <letter1>, <letter2>\n",
    "```\n",
    "\n",
    "💡 **Example input:**  \n",
    "```\n",
    "a b\n",
    "```\n",
    "\n",
    "💡 **Example output:**  \n",
    "```\n",
    "Uppercase: A, B\n",
    "```\n"
   ]
  },
  {
   "cell_type": "code",
   "execution_count": 5,
   "id": "9f90d762",
   "metadata": {},
   "outputs": [],
   "source": [
    "# ✨ Your code here\n",
    "# ✨ Hint: map() applies str.upper"
   ]
  },
  {
   "cell_type": "markdown",
   "id": "3258f277",
   "metadata": {},
   "source": [
    "### 🌿 Practice 2 — Letters Repeated\n",
    "\n",
    "### 🪄 **Task:**  \n",
    "The program receives two letters separated by a space.  \n",
    "Print them repeated in the following format:\n",
    "\n",
    "```\n",
    "Repeat: <letter1><letter1>, <letter2><letter2><letter2>\n",
    "```\n",
    "\n",
    "💡 **Example input:**  \n",
    "```\n",
    "a b\n",
    "```\n",
    "\n",
    "💡 **Example output:**  \n",
    "```\n",
    "Repeat: aa, bbb\n",
    "```\n"
   ]
  },
  {
   "cell_type": "code",
   "execution_count": 8,
   "id": "a7322a61",
   "metadata": {},
   "outputs": [
    {
     "name": "stdin",
     "output_type": "stream",
     "text": [
      " b n\n"
     ]
    },
    {
     "name": "stdout",
     "output_type": "stream",
     "text": [
      "Repeat: bb, nnn\n"
     ]
    }
   ],
   "source": [
    "# ✨ Your code here\n",
    "# ✨ Hint: simple string multiplication"
   ]
  },
  {
   "cell_type": "markdown",
   "id": "18037b8f",
   "metadata": {},
   "source": [
    "### 🌿 Practice 3 — Sorted Letters\n",
    "\n",
    "### 🪄 **Task:**  \n",
    "The program receives two letters separated by a space.  \n",
    "Sort them alphabetically and print:\n",
    "\n",
    "```\n",
    "Sorted: <letter1>, <letter2>\n",
    "```\n",
    "\n",
    "💡 **Example input:**  \n",
    "```\n",
    "b a\n",
    "```\n",
    "\n",
    "💡 **Example output:**  \n",
    "```\n",
    "Sorted: a, b\n",
    "```\n"
   ]
  },
  {
   "cell_type": "code",
   "execution_count": 12,
   "id": "eb24e52d",
   "metadata": {},
   "outputs": [],
   "source": [
    "# ✨ Your code here\n",
    "# ✨ Hint: sorted() + join()"
   ]
  }
 ],
 "metadata": {
  "kernelspec": {
   "display_name": "Priya Interview",
   "language": "python",
   "name": "interview"
  },
  "language": "python",
  "language_info": {
   "codemirror_mode": {
    "name": "ipython",
    "version": 3
   },
   "file_extension": ".py",
   "mimetype": "text/x-python",
   "name": "python",
   "nbconvert_exporter": "python",
   "pygments_lexer": "ipython3",
   "version": "3.12.5"
  }
 },
 "nbformat": 4,
 "nbformat_minor": 5
}
